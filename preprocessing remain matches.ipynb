{
 "cells": [
  {
   "cell_type": "code",
   "execution_count": 1,
   "metadata": {},
   "outputs": [],
   "source": [
    "import numpy as np\n",
    "import pandas as pd"
   ]
  },
  {
   "cell_type": "code",
   "execution_count": 108,
   "metadata": {},
   "outputs": [],
   "source": [
    "remain_match = pd.read_csv('remain_match.csv')\n",
    "remain_match = remain_match.iloc[:,1:5]\n",
    "remain_match.columns = ['G_ID','day','AWAY','HOME']\n",
    "\n",
    "month = []\n",
    "date = []\n",
    "for i in range(len(remain_match)) :\n",
    "    month.append(remain_match.G_ID.str.split('/')[i][0].zfill(2))\n",
    "    date.append(remain_match.G_ID.str.split('/')[i][1].zfill(2))\n",
    "    \n",
    "remain_match['month'] = month\n",
    "remain_match['date'] = date\n",
    "\n",
    "remain_match['G_ID'] = '2020'+remain_match.month+remain_match.date\n",
    "remain_match = remain_match.drop(['month','date','day'], axis=1)\n",
    "\n",
    "for j in [1,2] :\n",
    "    for i in range(len(remain_match)) :\n",
    "        if remain_match.iloc[i,j]=='KIA' : remain_match.iloc[i,j]='HT'\n",
    "        if remain_match.iloc[i,j]=='롯데' : remain_match.iloc[i,j]='LT'\n",
    "        if remain_match.iloc[i,j]=='두산' : remain_match.iloc[i,j]='OB'\n",
    "        if remain_match.iloc[i,j]=='키움' : remain_match.iloc[i,j]='WO'\n",
    "        if remain_match.iloc[i,j]=='삼성' : remain_match.iloc[i,j]='SS'\n",
    "        if remain_match.iloc[i,j]=='한화' : remain_match.iloc[i,j]='HH'\n",
    "            \n",
    "remain_match.G_ID = remain_match.G_ID+remain_match.HOME+remain_match.AWAY\n",
    "\n",
    "remain_match = pd.concat([remain_match,remain_match]).sort_values(by='G_ID')\n",
    "\n",
    "remain_match['T_ID'] = 0\n",
    "\n",
    "for i in range(len(remain_match)) :\n",
    "    if (i+1)%2==1 : remain_match.iloc[i,3]=remain_match.iloc[i,2]\n",
    "    if (i+1)%2==0 : remain_match.iloc[i,3]=remain_match.iloc[i,1]\n",
    "        \n",
    "remain_match['VS_T_ID'] = 0\n",
    "\n",
    "for i in range(len(remain_match)) :\n",
    "    if (i+1)%2==1 : remain_match.iloc[i,4]=remain_match.iloc[i,1]\n",
    "    if (i+1)%2==0 : remain_match.iloc[i,4]=remain_match.iloc[i,2]\n",
    "        \n",
    "remain_match['TB_SC'] = 0\n",
    "\n",
    "for i in range(len(remain_match)) :\n",
    "    if remain_match.iloc[i,1]==remain_match.iloc[i,3] : remain_match.iloc[i,5]='T'\n",
    "    if remain_match.iloc[i,2]==remain_match.iloc[i,3] : remain_match.iloc[i,5]='B'\n",
    "\n",
    "remain_match = remain_match.drop(['AWAY','HOME'], axis=1)"
   ]
  },
  {
   "cell_type": "code",
   "execution_count": 111,
   "metadata": {
    "scrolled": true
   },
   "outputs": [],
   "source": [
    "remain_match.to_csv('test set.csv', index=False)"
   ]
  }
 ],
 "metadata": {
  "kernelspec": {
   "display_name": "Python 3",
   "language": "python",
   "name": "python3"
  },
  "language_info": {
   "codemirror_mode": {
    "name": "ipython",
    "version": 3
   },
   "file_extension": ".py",
   "mimetype": "text/x-python",
   "name": "python",
   "nbconvert_exporter": "python",
   "pygments_lexer": "ipython3",
   "version": "3.7.6"
  }
 },
 "nbformat": 4,
 "nbformat_minor": 4
}
